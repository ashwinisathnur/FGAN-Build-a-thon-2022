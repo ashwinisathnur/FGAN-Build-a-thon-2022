usecases = []
usecases.append("1")
print(usecases)
