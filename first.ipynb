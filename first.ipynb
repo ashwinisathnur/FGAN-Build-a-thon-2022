{
  usecase = []
  usecase.append("First usecase")
  print(usecase)
}
